{
 "cells": [
  {
   "cell_type": "code",
   "execution_count": null,
   "id": "8bfb65d7",
   "metadata": {},
   "outputs": [],
   "source": []
  },
  {
   "cell_type": "markdown",
   "id": "b28c1db0",
   "metadata": {},
   "source": [
    "jfhfj"
   ]
  }
 ],
 "metadata": {
  "language_info": {
   "name": "python"
  }
 },
 "nbformat": 4,
 "nbformat_minor": 5
}
